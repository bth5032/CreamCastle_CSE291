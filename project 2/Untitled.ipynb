{
 "cells": [
  {
   "cell_type": "code",
   "execution_count": 1,
   "metadata": {
    "collapsed": false
   },
   "outputs": [
    {
     "ename": "SyntaxError",
     "evalue": "Missing parentheses in call to 'print' (<ipython-input-1-9410ac7eb48d>, line 21)",
     "output_type": "error",
     "traceback": [
      "\u001b[1;36m  File \u001b[1;32m\"<ipython-input-1-9410ac7eb48d>\"\u001b[1;36m, line \u001b[1;32m21\u001b[0m\n\u001b[1;33m    print 'Logistic regression using sklearn'\u001b[0m\n\u001b[1;37m                                            ^\u001b[0m\n\u001b[1;31mSyntaxError\u001b[0m\u001b[1;31m:\u001b[0m Missing parentheses in call to 'print'\n"
     ]
    }
   ],
   "source": [
    "'''Logistic Regression for 0/1 in MNIST dataset'''\n",
    "import numpy as np\n",
    "import helper_functions as fn\n",
    "import math_logistic as ml\n",
    "from logisticregression import SklearnLogisticRegression\n",
    "from sklearn import linear_model\n",
    "\n",
    "#---------------------#\n",
    "# Logistic Regression #\n",
    "#---------------------#\t\n",
    "# Load dataset from MNIST\n",
    "full_trainarray = np.load('data/numpy/trainarray.npy')\n",
    "full_trainlabel = np.load('data/numpy/trainlabel.npy')\n",
    "full_testarray  = np.load('data/numpy/testarray.npy' )\n",
    "full_testlabel  = np.load('data/numpy/testlabel.npy' )\n",
    "\n",
    "X_train, Y_train = fn.preprocess_data(full_trainarray, full_trainlabel, True)\n",
    "X_test, Y_test   = fn.preprocess_data(full_testarray, full_testlabel, True)\n",
    "\n",
    "# 0.  Sklearn logistic regression\n",
    "print('Logistic regression using sklearn')\n",
    "logreg = SklearnLogisticRegression()\n",
    "w = logreg.train(X_train, Y_train)\n",
    "p = logreg.predict(X_test)\n",
    "fn.print_performance(p, Y_test)\n",
    "\n",
    "\n",
    "# 1.  Batch gradient descent logistic regression\n",
    "print('Logistic regression using gradient descent')\n",
    "w = np.zeros(X_train.shape[1])\n",
    "w = ml.gradient_descent(X_train, Y_train, w, 10)\n",
    "p = ml.predict_logistic(X_test, w)\n",
    "fn.print_performance(p, Y_test)\n",
    "\n",
    "\n",
    "# 2.  Stochastic gradient descent logistic regression\n",
    "print('Logistic regression using stochastic gradient descent')\n",
    "w = np.zeros(X_train.shape[1])\n",
    "w = ml.stochastic_gradient_descent(X_train, Y_train, w, 5000, 100)\n",
    "p = ml.predict_logistic(X_test, w)\n",
    "fn.print_performance(p, Y_test)\n"
   ]
  },
  {
   "cell_type": "code",
   "execution_count": null,
   "metadata": {
    "collapsed": true
   },
   "outputs": [],
   "source": []
  }
 ],
 "metadata": {
  "kernelspec": {
   "display_name": "Python 3",
   "language": "python",
   "name": "python3"
  },
  "language_info": {
   "codemirror_mode": {
    "name": "ipython",
    "version": 3
   },
   "file_extension": ".py",
   "mimetype": "text/x-python",
   "name": "python",
   "nbconvert_exporter": "python",
   "pygments_lexer": "ipython3",
   "version": "3.4.3"
  }
 },
 "nbformat": 4,
 "nbformat_minor": 0
}
