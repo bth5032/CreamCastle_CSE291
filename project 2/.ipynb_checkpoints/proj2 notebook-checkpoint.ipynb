{
 "metadata": {
  "name": "",
  "signature": "sha256:a523ebdcc2b6e7ffb9798bb683b34f9943488d5acce7030444193059056a7afe"
 },
 "nbformat": 3,
 "nbformat_minor": 0,
 "worksheets": []
}