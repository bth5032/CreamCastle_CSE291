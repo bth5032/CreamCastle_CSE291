{
 "metadata": {
  "name": "",
  "signature": "sha256:df1938b3256c8e2907177f60a2d49cddcbc86349a8d11896af7ad034e3ac144c"
 },
 "nbformat": 3,
 "nbformat_minor": 0,
 "worksheets": [
  {
   "cells": [
    {
     "cell_type": "code",
     "collapsed": false,
     "input": [
      "import numpy as np\n",
      "import helper_functions as fn\n",
      "import math_functions as mf\n",
      "import logisticregression\n",
      "import os"
     ],
     "language": "python",
     "metadata": {},
     "outputs": [],
     "prompt_number": 5
    },
    {
     "cell_type": "code",
     "collapsed": false,
     "input": [
      "# Load dataset from MNIST\n",
      "full_trainarray = np.load(os.path.abspath('data/numpy/trainarray.npy'))\n",
      "full_trainlabel = np.load(os.path.abspath('data/numpy/trainlabel.npy'))\n",
      "full_testarray  = np.load(os.path.abspath('data/numpy/testarray.npy' ))\n",
      "full_testlabel  = np.load(os.path.abspath('data/numpy/testlabel.npy' ))"
     ],
     "language": "python",
     "metadata": {},
     "outputs": [],
     "prompt_number": 2
    },
    {
     "cell_type": "code",
     "collapsed": false,
     "input": [],
     "language": "python",
     "metadata": {},
     "outputs": [],
     "prompt_number": 0
    },
    {
     "cell_type": "code",
     "collapsed": false,
     "input": [
      "X_train, Y_train = fn.preprocess_data(full_trainarray, full_trainlabel)\n",
      "X_test, Y_test   = fn.preprocess_data(full_testarray, full_testlabel)"
     ],
     "language": "python",
     "metadata": {},
     "outputs": [],
     "prompt_number": 0
    },
    {
     "cell_type": "code",
     "collapsed": false,
     "input": [],
     "language": "python",
     "metadata": {},
     "outputs": []
    }
   ],
   "metadata": {}
  }
 ]
}