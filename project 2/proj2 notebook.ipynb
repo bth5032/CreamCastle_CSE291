{
 "metadata": {
  "name": "",
  "signature": "sha256:409b9df261c2a5277d406a750ad79c8804032878a3805b6ee3877ea1c4daf374"
 },
 "nbformat": 3,
 "nbformat_minor": 0,
 "worksheets": [
  {
   "cells": [
    {
     "cell_type": "code",
     "collapsed": false,
     "input": [
      "%pylab inline\n",
      "%load_ext autoreload\n",
      "%autoreload\n",
      "\n",
      "import logisticregression as lr\n",
      "import numpy as np\n",
      "import helper_functions as fn\n",
      "import math_functions as mf\n",
      "import os\n",
      "\n",
      "\n"
     ],
     "language": "python",
     "metadata": {},
     "outputs": [
      {
       "output_type": "stream",
       "stream": "stdout",
       "text": [
        "Populating the interactive namespace from numpy and matplotlib\n"
       ]
      }
     ],
     "prompt_number": 1
    },
    {
     "cell_type": "heading",
     "level": 2,
     "metadata": {},
     "source": [
      "Load dataset from MNIST"
     ]
    },
    {
     "cell_type": "code",
     "collapsed": false,
     "input": [
      "full_trainarray = np.load(os.path.abspath('data/numpy/trainarray.npy'))\n",
      "full_trainlabel = np.load(os.path.abspath('data/numpy/trainlabel.npy'))\n",
      "full_testarray  = np.load(os.path.abspath('data/numpy/testarray.npy' ))\n",
      "full_testlabel  = np.load(os.path.abspath('data/numpy/testlabel.npy' ))"
     ],
     "language": "python",
     "metadata": {},
     "outputs": [],
     "prompt_number": 2
    },
    {
     "cell_type": "heading",
     "level": 2,
     "metadata": {},
     "source": [
      "Preprocess Data"
     ]
    },
    {
     "cell_type": "code",
     "collapsed": false,
     "input": [
      "X_train, Y_train = fn.preprocess_data(full_trainarray, full_trainlabel)\n",
      "X_test, Y_test   = fn.preprocess_data(full_testarray, full_testlabel)"
     ],
     "language": "python",
     "metadata": {},
     "outputs": [],
     "prompt_number": 3
    },
    {
     "cell_type": "heading",
     "level": 2,
     "metadata": {},
     "source": [
      "Logistic Regression: sklearn"
     ]
    },
    {
     "cell_type": "code",
     "collapsed": false,
     "input": [
      "logreg = lr.LogisticRegression(X_train, Y_train, X_test, Y_test)\n",
      "logreg.fit()\n",
      "predict = logreg.predict()\n",
      "\n",
      "\n"
     ],
     "language": "python",
     "metadata": {},
     "outputs": [],
     "prompt_number": 6
    },
    {
     "cell_type": "heading",
     "level": 3,
     "metadata": {},
     "source": [
      "LaTeX Explanation"
     ]
    },
    {
     "cell_type": "code",
     "collapsed": false,
     "input": [
      "%%latex\n",
      "$$\\Huge\\Sigma^{\\normal 2}$$"
     ],
     "language": "python",
     "metadata": {},
     "outputs": [
      {
       "latex": [
        "$$\\Huge\\Sigma^{\\normal 2}$$"
       ],
       "metadata": {},
       "output_type": "display_data",
       "text": [
        "<IPython.core.display.Latex at 0xa727048>"
       ]
      }
     ],
     "prompt_number": 22
    },
    {
     "cell_type": "heading",
     "level": 2,
     "metadata": {},
     "source": [
      "Logistic Regression: gradient descent"
     ]
    },
    {
     "cell_type": "code",
     "collapsed": false,
     "input": [
      "w = np.random.rand(X_train.shape[1])\n",
      "w = mf.gradient_descent(X_train, Y_train, w, 1000)\n",
      "\n",
      "print w"
     ],
     "language": "python",
     "metadata": {},
     "outputs": [
      {
       "output_type": "stream",
       "stream": "stdout",
       "text": [
        "('Log-loss: ', 137739.24585744986, ' at i = ', 0)\n",
        "('Log-loss: ', 591171.00582281, ' at i = ', 1)"
       ]
      },
      {
       "output_type": "stream",
       "stream": "stdout",
       "text": [
        "\n",
        "('Log-loss: ', inf, ' at i = ', 2)"
       ]
      },
      {
       "output_type": "stream",
       "stream": "stderr",
       "text": [
        "math_functions.py:8: RuntimeWarning: overflow encountered in exp\n",
        "  val += np.log(1.0 + np.exp(-Y[i]*np.dot(w,X[i])))\n",
        "math_functions.py:23: RuntimeWarning: overflow encountered in exp\n",
        "  val += -X[i]*Y[i]/(1.0 + np.exp(Y[i] * np.dot(w, X[i])))\n"
       ]
      },
      {
       "output_type": "stream",
       "stream": "stdout",
       "text": [
        "\n",
        "('Log-loss: ', nan, ' at i = ', 3)"
       ]
      },
      {
       "output_type": "stream",
       "stream": "stdout",
       "text": [
        "\n",
        "('Log-loss: ', nan, ' at i = ', 4)"
       ]
      },
      {
       "output_type": "stream",
       "stream": "stdout",
       "text": [
        "\n",
        "('Log-loss: ', nan, ' at i = ', 5)"
       ]
      },
      {
       "output_type": "stream",
       "stream": "stdout",
       "text": [
        "\n",
        "('Log-loss: ', nan, ' at i = ', 6)"
       ]
      },
      {
       "output_type": "stream",
       "stream": "stdout",
       "text": [
        "\n",
        "('Log-loss: ', nan, ' at i = ', 7)"
       ]
      },
      {
       "output_type": "stream",
       "stream": "stdout",
       "text": [
        "\n",
        "('Log-loss: ', nan, ' at i = ', 8)"
       ]
      },
      {
       "output_type": "stream",
       "stream": "stdout",
       "text": [
        "\n",
        "('Log-loss: ', nan, ' at i = ', 9)"
       ]
      },
      {
       "output_type": "stream",
       "stream": "stdout",
       "text": [
        "\n",
        "('Log-loss: ', nan, ' at i = ', 10)"
       ]
      },
      {
       "output_type": "stream",
       "stream": "stdout",
       "text": [
        "\n",
        "('Log-loss: ', nan, ' at i = ', 11)"
       ]
      },
      {
       "output_type": "stream",
       "stream": "stdout",
       "text": [
        "\n",
        "('Log-loss: ', nan, ' at i = ', 12)"
       ]
      },
      {
       "output_type": "stream",
       "stream": "stdout",
       "text": [
        "\n",
        "('Log-loss: ', nan, ' at i = ', 13)"
       ]
      },
      {
       "output_type": "stream",
       "stream": "stdout",
       "text": [
        "\n",
        "('Log-loss: ', nan, ' at i = ', 14)"
       ]
      },
      {
       "output_type": "stream",
       "stream": "stdout",
       "text": [
        "\n",
        "('Log-loss: ', nan, ' at i = ', 15)"
       ]
      },
      {
       "output_type": "stream",
       "stream": "stdout",
       "text": [
        "\n",
        "('Log-loss: ', nan, ' at i = ', 16)"
       ]
      },
      {
       "output_type": "stream",
       "stream": "stdout",
       "text": [
        "\n",
        "('Log-loss: ', nan, ' at i = ', 17)"
       ]
      },
      {
       "output_type": "stream",
       "stream": "stdout",
       "text": [
        "\n",
        "('Log-loss: ', nan, ' at i = ', 18)"
       ]
      },
      {
       "output_type": "stream",
       "stream": "stdout",
       "text": [
        "\n",
        "('Log-loss: ', nan, ' at i = ', 19)"
       ]
      },
      {
       "output_type": "stream",
       "stream": "stdout",
       "text": [
        "\n",
        "('Log-loss: ', nan, ' at i = ', 20)"
       ]
      },
      {
       "output_type": "stream",
       "stream": "stdout",
       "text": [
        "\n",
        "('Log-loss: ', nan, ' at i = ', 21)"
       ]
      },
      {
       "output_type": "stream",
       "stream": "stdout",
       "text": [
        "\n",
        "('Log-loss: ', nan, ' at i = ', 22)"
       ]
      },
      {
       "output_type": "stream",
       "stream": "stdout",
       "text": [
        "\n",
        "('Log-loss: ', nan, ' at i = ', 23)"
       ]
      }
     ]
    },
    {
     "cell_type": "code",
     "collapsed": false,
     "input": [
      "print locals()"
     ],
     "language": "python",
     "metadata": {},
     "outputs": []
    },
    {
     "cell_type": "code",
     "collapsed": false,
     "input": [],
     "language": "python",
     "metadata": {},
     "outputs": []
    }
   ],
   "metadata": {}
  }
 ]
}